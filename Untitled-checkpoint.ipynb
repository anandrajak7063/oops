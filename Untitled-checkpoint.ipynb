{
 "cells": [
  {
   "cell_type": "code",
   "execution_count": 2,
   "id": "03f546e6",
   "metadata": {},
   "outputs": [
    {
     "name": "stdout",
     "output_type": "stream",
     "text": [
      "enter a number \n",
      "5\n",
      "the factorial of  5 is 120\n"
     ]
    }
   ],
   "source": [
    "def factorial(x):\n",
    "    if  x == 1:\n",
    "        return 1\n",
    "    else :\n",
    "        return (x * factorial(x-1))\n",
    "print(\"enter a number \")\n",
    "num = int(input())\n",
    "print(\"the factorial of \",num,\"is\",factorial(num))\n"
   ]
  },
  {
   "cell_type": "code",
   "execution_count": 10,
   "id": "3795c2f4",
   "metadata": {},
   "outputs": [],
   "source": [
    "def sum():\n",
    "    print(\"enter 2 numbers\")\n",
    "    a = int(input())\n",
    "    b = int(input())\n",
    "    s = a + b\n",
    "    print(\"sum  is \",s)\n"
   ]
  },
  {
   "cell_type": "code",
   "execution_count": 20,
   "id": "afa22124",
   "metadata": {},
   "outputs": [],
   "source": [
    "def sum():\n",
    "    a= int(input())\n",
    "    b = int(input())\n",
    "    s = a + b\n",
    "    print(\" sum is \", s)\n",
    "    \n",
    "\n"
   ]
  },
  {
   "cell_type": "code",
   "execution_count": null,
   "id": "3352dac0",
   "metadata": {},
   "outputs": [],
   "source": []
  },
  {
   "cell_type": "code",
   "execution_count": null,
   "id": "ce050de0",
   "metadata": {},
   "outputs": [],
   "source": []
  },
  {
   "cell_type": "code",
   "execution_count": null,
   "id": "bd24ba63",
   "metadata": {},
   "outputs": [],
   "source": []
  },
  {
   "cell_type": "code",
   "execution_count": null,
   "id": "08430047",
   "metadata": {},
   "outputs": [],
   "source": []
  }
 ],
 "metadata": {
  "kernelspec": {
   "display_name": "Python 3 (ipykernel)",
   "language": "python",
   "name": "python3"
  },
  "language_info": {
   "codemirror_mode": {
    "name": "ipython",
    "version": 3
   },
   "file_extension": ".py",
   "mimetype": "text/x-python",
   "name": "python",
   "nbconvert_exporter": "python",
   "pygments_lexer": "ipython3",
   "version": "3.11.5"
  }
 },
 "nbformat": 4,
 "nbformat_minor": 5
}
